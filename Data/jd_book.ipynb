{
 "cells": [
  {
   "cell_type": "code",
   "execution_count": 1,
   "metadata": {},
   "outputs": [],
   "source": [
    "import pymysql\n",
    "from time import sleep\n",
    "from selenium import webdriver\n",
    "import requests\n",
    "from lxml import etree"
   ]
  },
  {
   "cell_type": "code",
   "execution_count": 2,
   "metadata": {},
   "outputs": [],
   "source": [
    "sql = 'insert into info(name,price,press) values(%s,%s,%s)'\n",
    "db = pymysql.connect(host = 'localhost',user = 'root',password = '123456',port = 3306,db = 'bookdata')\n",
    "cursor = db.cursor()"
   ]
  },
  {
   "cell_type": "code",
   "execution_count": 3,
   "metadata": {},
   "outputs": [],
   "source": [
    "headers = {\n",
    "     'User-Agent':'Mozilla/5.0 (Windows NT 10.0; Win64; x64) AppleWebKit/537.36 (KHTML, like Gecko) Chrome/70.0.3538.102 Safari/537.36',\n",
    "}\n",
    "url = 'https://search.jd.com/Search?keyword=%E7%BC%96%E7%A8%8B%E4%B9%A6%E7%B1%8D&wq=%E7%BC%96%E7%A8%8B%E4%B9%A6%E7%B1%8D&psort=3&click=1'"
   ]
  },
  {
   "cell_type": "code",
   "execution_count": 4,
   "metadata": {},
   "outputs": [],
   "source": [
    "response = requests.get(url,headers=headers)\n",
    "response.encoding = 'udf-8'\n",
    "text = response.text\n",
    "html = etree.HTML(text)"
   ]
  },
  {
   "cell_type": "code",
   "execution_count": 5,
   "metadata": {},
   "outputs": [],
   "source": [
    "ul = html.xpath('/html/body/div[5]/div[2]/div[2]/div[1]/div/div[2]/ul/li')"
   ]
  },
  {
   "cell_type": "code",
   "execution_count": 6,
   "metadata": {
    "scrolled": true
   },
   "outputs": [
    {
     "name": "stdout",
     "output_type": "stream",
     "text": [
      "('Python精通Python两件套：Python从入门到实践+Python数据结构与算法分析', '62.30', '人民邮电出版社')\n",
      "('Python三剑客：Python从入门到实践第2版+快速上手第2版+极客（套装共3册）', '165.50', '人民邮电出版社')\n",
      "('JavaScript高级程序设计', '87.30', '人民邮电出版社')\n",
      "('零基础学Python（入门', '37.50', '明日科技京东自营旗舰店')\n",
      "('C++C++思想', '86.60', '电子工业出版社')\n",
      "('C++', '59.00', '人民邮电出版社')\n",
      "('【包邮】labuladong的算法小抄(Python', '49.50', '电子工业出版社')\n",
      "('利用Python进行数据分析（原书第2版）', '79.30', '机械工业出版社自营官方旗舰店')\n",
      "('Java思想（第4版）C++思想', '72.00', '机械工业出版社自营官方旗舰店')\n",
      "('C', '54.00', '人民邮电出版社')\n",
      "('深入剖析Kubernetes', '82.90', '人民邮电出版社')\n",
      "('剑指Offer：名企面试官精讲典型题（第2版）(博文视点出品)', '31.20', '电子工业出版社')\n",
      "('Java从入门到精通（第5版）三剑客：java+c语言+python入门指南：java+c语言+python+sql从入门到精通（京东套装共4册）', '34.90', '清华大学出版社')\n",
      "('超简单：用Python让Excel飞起来', '34.90', '机械工业出版社自营官方旗舰店')\n",
      "('Python快速上手', '44.50', '人民邮电出版社')\n",
      "('C和C++经典著作：C和指针+C专家+C陷阱与缺陷（京东套装共3册）', '108.50', '人民邮电出版社')\n",
      "('算法设计', '57.10', '人民邮电出版社')\n",
      "('看漫画学Python：有趣、有料、好玩、好用（全彩版）(博文视点出品)', '44.50', '电子工业出版社')\n",
      "('数据结构与算法分析：Java语言描述（原书第3版）', '46.00', '机械工业出版社自营官方旗舰店')\n",
      "('STL源码剖析', '35.20', '华中科技大学出版社')\n",
      "(\"O'Reilly：Head\", '58.60', '中国电力出版社')\n",
      "('Spring思想（核心篇）(博文视点出品)', '57.80', '电子工业出版社')\n",
      "('数据结构与算法分析', '52.70', '机械工业出版社自营官方旗舰店')\n",
      "('Python全能开发三剑客：零基础学Python+实效百例+项目开发案例集锦（京东套装共3册）', '266.00', '明日科技京东自营旗舰店')\n",
      "('零基础学Java（全彩版）赠小白实战手册', '32.80', '明日科技京东自营旗舰店')\n",
      "('C#', '122.90', '京东自营')\n",
      "('你不知道的JavaScript', '163.60', '人民邮电出版社')\n",
      "('C++标准库（第2版）(博文视点出品)', '114.00', '电子工业出版社')\n",
      "('C#入门经典（第8版）/.NET开发经典名著', '81.10', '清华大学出版社')\n",
      "('活文档', '79.40', '人民邮电出版社')\n"
     ]
    }
   ],
   "source": [
    "for li in ul:\n",
    "    name = li.xpath('.//div[@class=\"p-name\"]//em/text()')\n",
    "    price = li.xpath('.//div[@class=\"p-price\"]/strong/i/text()')[0]\n",
    "    public = li.xpath('.//div[@class=\"p-shopnum\"]//text()')\n",
    "    na = ''\n",
    "    for x in name:\n",
    "        na += str(x).split(\" \")[0]\n",
    "    pr = ''\n",
    "    for i in price:\n",
    "        pr += str(i)\n",
    "    pu = ''\n",
    "    for j in public:\n",
    "        pu += str(j)\n",
    "    pu2 = pu.replace('\\n','').replace('\\t','')\n",
    "    data = (na,pr,pu2)\n",
    "    print(data)\n",
    "    db.ping(reconnect=True)\n",
    "    cursor.execute(sql,data)\n",
    "    db.commit()"
   ]
  },
  {
   "cell_type": "code",
   "execution_count": null,
   "metadata": {},
   "outputs": [],
   "source": []
  }
 ],
 "metadata": {
  "kernelspec": {
   "display_name": "Python 3",
   "language": "python",
   "name": "python3"
  },
  "language_info": {
   "codemirror_mode": {
    "name": "ipython",
    "version": 3
   },
   "file_extension": ".py",
   "mimetype": "text/x-python",
   "name": "python",
   "nbconvert_exporter": "python",
   "pygments_lexer": "ipython3",
   "version": "3.7.0"
  }
 },
 "nbformat": 4,
 "nbformat_minor": 4
}
